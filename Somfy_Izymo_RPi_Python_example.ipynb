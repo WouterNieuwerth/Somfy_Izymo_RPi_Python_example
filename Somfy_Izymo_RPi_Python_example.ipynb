{
  "nbformat": 4,
  "nbformat_minor": 0,
  "metadata": {
    "colab": {
      "name": "Somfy_Izymo_RPi_Python_example.ipynb",
      "provenance": [],
      "authorship_tag": "ABX9TyN+S5R1xp85jHzL2cpzDv3e",
      "include_colab_link": true
    },
    "kernelspec": {
      "name": "python3",
      "display_name": "Python 3"
    }
  },
  "cells": [
    {
      "cell_type": "markdown",
      "metadata": {
        "id": "view-in-github",
        "colab_type": "text"
      },
      "source": [
        "<a href=\"https://colab.research.google.com/github/WouterNieuwerth/Somfy_Izymo_RPi_Python_example/blob/master/Somfy_Izymo_RPi_Python_example.ipynb\" target=\"_parent\"><img src=\"https://colab.research.google.com/assets/colab-badge.svg\" alt=\"Open In Colab\"/></a>"
      ]
    },
    {
      "cell_type": "code",
      "metadata": {
        "id": "kmGTJmFf6SQ_"
      },
      "source": [
        "import RPi.GPIO as GPIO\n",
        "import time\n",
        "\n",
        "GPIO.setmode(GPIO.BCM)\n",
        "\n",
        "pin_up = 26\n",
        "pin_down = 13\n",
        "\n",
        "GPIO.setup(pin_up, GPIO.OUT)\n",
        "GPIO.setup(pin_down, GPIO.OUT)\n",
        "\n",
        "GPIO.output(pin_up, GPIO.LOW)\n",
        "GPIO.output(pin_down, GPIO.LOW)\n",
        "\n",
        "def move_shutters (direction, sec):\n",
        "    if (direction == 'up'):\n",
        "        GPIO.output(pin_up, GPIO.HIGH)\n",
        "        time.sleep(sec)\n",
        "        GPIO.output(pin_up, GPIO.LOW)\n",
        "    if (direction == 'down'):\n",
        "        GPIO.output(pin_down, GPIO.HIGH)\n",
        "        time.sleep(sec)\n",
        "        GPIO.output(pin_down, GPIO.LOW)\n",
        "\n",
        "move_shutters('down', 20)"
      ],
      "execution_count": null,
      "outputs": []
    }
  ]
}